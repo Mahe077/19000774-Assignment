{
  "nbformat": 4,
  "nbformat_minor": 0,
  "metadata": {
    "colab": {
      "provenance": [],
      "gpuType": "T4",
      "authorship_tag": "ABX9TyP98jSzfqKHsUUDX6R0pB8O",
      "include_colab_link": true
    },
    "kernelspec": {
      "name": "python3",
      "display_name": "Python 3"
    },
    "language_info": {
      "name": "python"
    },
    "accelerator": "GPU"
  },
  "cells": [
    {
      "cell_type": "markdown",
      "metadata": {
        "id": "view-in-github",
        "colab_type": "text"
      },
      "source": [
        "<a href=\"https://colab.research.google.com/github/Mahe077/19000774-Assignment/blob/master/coordinate_scrambling_with_Arnold_scrambler.ipynb\" target=\"_parent\"><img src=\"https://colab.research.google.com/assets/colab-badge.svg\" alt=\"Open In Colab\"/></a>"
      ]
    },
    {
      "cell_type": "code",
      "execution_count": 40,
      "metadata": {
        "id": "z1WGCtria-uV"
      },
      "outputs": [],
      "source": [
        "# import torch\n",
        "\n",
        "# def rearrange_matrix(input_matrix, location_matrix):\n",
        "#   \"\"\"\n",
        "#   Rearranges a PyTorch tensor (matrix) based on another tensor containing destination indices.\n",
        "\n",
        "#   Args:\n",
        "#     input_matrix: A PyTorch tensor of shape (1, 3, 256, 256).\n",
        "#     location_matrix: A PyTorch tensor of shape (256, 256) containing destination indices.\n",
        "\n",
        "#   Returns:\n",
        "#     A PyTorch tensor with the rearranged elements, also of shape (1, 3, 256, 256).\n",
        "#   \"\"\"\n",
        "\n",
        "#   # Flatten the input matrix\n",
        "#   flat_input = input_matrix.view(-1)\n",
        "\n",
        "#   # Reshape the location matrix to match the flattened input\n",
        "#   reshaped_locations = location_matrix.view(-1)\n",
        "\n",
        "#   # Create an empty tensor for rearranged elements\n",
        "#   rearranged_flat = torch.empty_like(flat_input, device=input_matrix.device)\n",
        "\n",
        "#   # Custom kernel for efficient rearrangement\n",
        "#   kernel = torch.nn.functional.scatter_add(rearranged_flat, reshaped_locations, flat_input)\n",
        "\n",
        "#   # Return the rearranged matrix with original shape\n",
        "#   return kernel.view_as(input_matrix)\n",
        "\n",
        "# # Example usage\n",
        "# input_matrix = torch.randn(1, 3, 256, 256)\n",
        "# location_matrix = torch.randint(0, 256 * 256, size=(256, 256))\n",
        "\n",
        "# rearranged_matrix = rearrange_matrix(input_matrix, location_matrix)\n",
        "\n",
        "# print(rearranged_matrix.shape)  # Output: torch.Size([1, 3, 256, 256])\n"
      ]
    },
    {
      "cell_type": "code",
      "source": [
        "import torch\n",
        "\n",
        "a = torch.rand(3,4,4)\n",
        "print(a)"
      ],
      "metadata": {
        "colab": {
          "base_uri": "https://localhost:8080/"
        },
        "id": "Zbr9llLLf2ky",
        "outputId": "de1e2b80-fad0-4d01-e9cf-65ee67b2d0b0"
      },
      "execution_count": 41,
      "outputs": [
        {
          "output_type": "stream",
          "name": "stdout",
          "text": [
            "tensor([[[0.1717, 0.8952, 0.1332, 0.4435],\n",
            "         [0.0374, 0.3772, 0.0153, 0.3540],\n",
            "         [0.9079, 0.5264, 0.5574, 0.8379],\n",
            "         [0.0236, 0.6879, 0.3528, 0.6216]],\n",
            "\n",
            "        [[0.1781, 0.3673, 0.4807, 0.8098],\n",
            "         [0.5446, 0.0522, 0.1632, 0.1338],\n",
            "         [0.8166, 0.5314, 0.6510, 0.8002],\n",
            "         [0.0915, 0.7141, 0.5899, 0.0385]],\n",
            "\n",
            "        [[0.1558, 0.7253, 0.8873, 0.7705],\n",
            "         [0.7812, 0.7681, 0.0267, 0.2920],\n",
            "         [0.8387, 0.9674, 0.6291, 0.0137],\n",
            "         [0.1468, 0.5189, 0.1054, 0.4580]]])\n"
          ]
        }
      ]
    },
    {
      "cell_type": "code",
      "source": [
        "print(a[0:,0,0])"
      ],
      "metadata": {
        "colab": {
          "base_uri": "https://localhost:8080/"
        },
        "id": "s8eDH37fgjVW",
        "outputId": "6209d7ab-a01c-43e5-f407-225d32e10c22"
      },
      "execution_count": 42,
      "outputs": [
        {
          "output_type": "stream",
          "name": "stdout",
          "text": [
            "tensor([0.1717, 0.1781, 0.1558])\n"
          ]
        }
      ]
    },
    {
      "cell_type": "code",
      "source": [
        "a[0:,0,0] = 1\n",
        "print(a)"
      ],
      "metadata": {
        "colab": {
          "base_uri": "https://localhost:8080/"
        },
        "id": "OaHn7dBXg6yp",
        "outputId": "0f799f09-2568-467d-f11e-0bd4b2831488"
      },
      "execution_count": 43,
      "outputs": [
        {
          "output_type": "stream",
          "name": "stdout",
          "text": [
            "tensor([[[1.0000, 0.8952, 0.1332, 0.4435],\n",
            "         [0.0374, 0.3772, 0.0153, 0.3540],\n",
            "         [0.9079, 0.5264, 0.5574, 0.8379],\n",
            "         [0.0236, 0.6879, 0.3528, 0.6216]],\n",
            "\n",
            "        [[1.0000, 0.3673, 0.4807, 0.8098],\n",
            "         [0.5446, 0.0522, 0.1632, 0.1338],\n",
            "         [0.8166, 0.5314, 0.6510, 0.8002],\n",
            "         [0.0915, 0.7141, 0.5899, 0.0385]],\n",
            "\n",
            "        [[1.0000, 0.7253, 0.8873, 0.7705],\n",
            "         [0.7812, 0.7681, 0.0267, 0.2920],\n",
            "         [0.8387, 0.9674, 0.6291, 0.0137],\n",
            "         [0.1468, 0.5189, 0.1054, 0.4580]]])\n"
          ]
        }
      ]
    },
    {
      "cell_type": "code",
      "source": [
        "b = torch.randn(3,4)\n",
        "print(b)\n",
        "print(b[:, (b > -1).all(axis=0)])"
      ],
      "metadata": {
        "colab": {
          "base_uri": "https://localhost:8080/"
        },
        "id": "AvU5MIEJhqv1",
        "outputId": "92baadc9-7a7b-4612-e769-d7e7a7a00e16"
      },
      "execution_count": 44,
      "outputs": [
        {
          "output_type": "stream",
          "name": "stdout",
          "text": [
            "tensor([[-0.9360, -0.6668, -2.3268, -0.4595],\n",
            "        [ 0.0738, -1.0714,  1.4456, -0.1339],\n",
            "        [ 0.9721,  0.9709,  1.2109,  1.3719]])\n",
            "tensor([[-0.9360, -0.4595],\n",
            "        [ 0.0738, -0.1339],\n",
            "        [ 0.9721,  1.3719]])\n"
          ]
        }
      ]
    },
    {
      "cell_type": "code",
      "source": [
        "rows, cols = 4, 4  # You can adjust the dimensions as needed\n",
        "\n",
        "# Generate a 2D matrix containing coordinates\n",
        "coordinate_matrix = torch.tensor([[(i, j) for j in range(cols)] for i in range(rows)])\n",
        "\n",
        "# Print the generated matrix\n",
        "for row in coordinate_matrix:\n",
        "    print(row)"
      ],
      "metadata": {
        "colab": {
          "base_uri": "https://localhost:8080/"
        },
        "id": "EvStAfcgl0So",
        "outputId": "78ee6ce5-c831-455b-ea63-34dae5ed75f1"
      },
      "execution_count": 45,
      "outputs": [
        {
          "output_type": "stream",
          "name": "stdout",
          "text": [
            "tensor([[0, 0],\n",
            "        [0, 1],\n",
            "        [0, 2],\n",
            "        [0, 3]])\n",
            "tensor([[1, 0],\n",
            "        [1, 1],\n",
            "        [1, 2],\n",
            "        [1, 3]])\n",
            "tensor([[2, 0],\n",
            "        [2, 1],\n",
            "        [2, 2],\n",
            "        [2, 3]])\n",
            "tensor([[3, 0],\n",
            "        [3, 1],\n",
            "        [3, 2],\n",
            "        [3, 3]])\n"
          ]
        }
      ]
    },
    {
      "cell_type": "code",
      "source": [
        "# Define the 2x2 matrix for multiplication\n",
        "matrix_to_multiply = torch.tensor([[1, 1], [1, 2]])\n",
        "temp = coordinate_matrix.view(-1, 2)\n",
        "print(temp, temp.shape, coordinate_matrix.shape)\n",
        "\n",
        "# Perform element-wise multiplication using PyTorch's operations\n",
        "result_matrix = torch.matmul(temp, matrix_to_multiply).view(rows, cols, 2)\n",
        "result = torch.fmod(result_matrix,rows)\n",
        "\n",
        "# Print the generated matrix\n",
        "print(result_matrix,\"\\n\")\n",
        "print(result)"
      ],
      "metadata": {
        "colab": {
          "base_uri": "https://localhost:8080/"
        },
        "id": "owRVNuM4NEu2",
        "outputId": "6f552391-d16d-47c7-f95c-3b72da8dd474"
      },
      "execution_count": 46,
      "outputs": [
        {
          "output_type": "stream",
          "name": "stdout",
          "text": [
            "tensor([[0, 0],\n",
            "        [0, 1],\n",
            "        [0, 2],\n",
            "        [0, 3],\n",
            "        [1, 0],\n",
            "        [1, 1],\n",
            "        [1, 2],\n",
            "        [1, 3],\n",
            "        [2, 0],\n",
            "        [2, 1],\n",
            "        [2, 2],\n",
            "        [2, 3],\n",
            "        [3, 0],\n",
            "        [3, 1],\n",
            "        [3, 2],\n",
            "        [3, 3]]) torch.Size([16, 2]) torch.Size([4, 4, 2])\n",
            "tensor([[[0, 0],\n",
            "         [1, 2],\n",
            "         [2, 4],\n",
            "         [3, 6]],\n",
            "\n",
            "        [[1, 1],\n",
            "         [2, 3],\n",
            "         [3, 5],\n",
            "         [4, 7]],\n",
            "\n",
            "        [[2, 2],\n",
            "         [3, 4],\n",
            "         [4, 6],\n",
            "         [5, 8]],\n",
            "\n",
            "        [[3, 3],\n",
            "         [4, 5],\n",
            "         [5, 7],\n",
            "         [6, 9]]]) \n",
            "\n",
            "tensor([[[0, 0],\n",
            "         [1, 2],\n",
            "         [2, 0],\n",
            "         [3, 2]],\n",
            "\n",
            "        [[1, 1],\n",
            "         [2, 3],\n",
            "         [3, 1],\n",
            "         [0, 3]],\n",
            "\n",
            "        [[2, 2],\n",
            "         [3, 0],\n",
            "         [0, 2],\n",
            "         [1, 0]],\n",
            "\n",
            "        [[3, 3],\n",
            "         [0, 1],\n",
            "         [1, 3],\n",
            "         [2, 1]]])\n"
          ]
        }
      ]
    },
    {
      "cell_type": "code",
      "source": [
        "import matplotlib.pyplot as plt"
      ],
      "metadata": {
        "id": "rGx8d48o4SEh"
      },
      "execution_count": 47,
      "outputs": []
    },
    {
      "cell_type": "code",
      "source": [
        "# Plot the original and result matrices\n",
        "fig, axs = plt.subplots(1, 2, figsize=(10, 5))\n",
        "\n",
        "# Original Coordinate Matrix\n",
        "axs[0].scatter(coordinate_matrix[:,:,0], coordinate_matrix[:,:,1], c='blue', label='Original')\n",
        "axs[0].set_title('Original Coordinate Matrix')\n",
        "axs[0].set_xlabel('X-axis')\n",
        "axs[0].set_ylabel('Y-axis')\n",
        "\n",
        "# Result Matrix\n",
        "axs[1].scatter(result[:,:,0], result[:,:,1], c='red', label='Scrambled')\n",
        "axs[1].set_title('Result Matrix (Scrambled)')\n",
        "axs[1].set_xlabel('X-axis')\n",
        "axs[1].set_ylabel('Y-axis')\n",
        "\n",
        "plt.show()"
      ],
      "metadata": {
        "colab": {
          "base_uri": "https://localhost:8080/",
          "height": 487
        },
        "id": "fLWL6f5q4U28",
        "outputId": "64fbfeb4-0741-46e5-f390-f98e1d71943d"
      },
      "execution_count": 48,
      "outputs": [
        {
          "output_type": "display_data",
          "data": {
            "text/plain": [
              "<Figure size 1000x500 with 2 Axes>"
            ],
            "image/png": "[encoded data removed]"
          },
          "metadata": {}
        }
      ]
    },
    {
      "cell_type": "code",
      "source": [
        "inverse_mult_matrix = torch.tensor([[2,-1],[-1,1]])\n",
        "print(inverse_mult_matrix)\n",
        "temp_2 = result.view(-1,2)\n",
        "print(temp_2)\n",
        "recoverd_matrix = torch.matmul(temp_2,inverse_mult_matrix).view(rows,cols,2)\n",
        "print(recoverd_matrix)\n",
        "add = torch.add(recoverd_matrix,4)\n",
        "print(\"add\\n\",add)\n",
        "recoverd = torch.fmod(add,rows)\n",
        "print(recoverd)"
      ],
      "metadata": {
        "colab": {
          "base_uri": "https://localhost:8080/"
        },
        "id": "tRswRpYeVctD",
        "outputId": "500e5809-6a9f-4c16-a34b-9b04f1e674e8"
      },
      "execution_count": 55,
      "outputs": [
        {
          "output_type": "stream",
          "name": "stdout",
          "text": [
            "tensor([[ 2, -1],\n",
            "        [-1,  1]])\n",
            "tensor([[0, 0],\n",
            "        [1, 2],\n",
            "        [2, 0],\n",
            "        [3, 2],\n",
            "        [1, 1],\n",
            "        [2, 3],\n",
            "        [3, 1],\n",
            "        [0, 3],\n",
            "        [2, 2],\n",
            "        [3, 0],\n",
            "        [0, 2],\n",
            "        [1, 0],\n",
            "        [3, 3],\n",
            "        [0, 1],\n",
            "        [1, 3],\n",
            "        [2, 1]])\n",
            "tensor([[[ 0,  0],\n",
            "         [ 0,  1],\n",
            "         [ 4, -2],\n",
            "         [ 4, -1]],\n",
            "\n",
            "        [[ 1,  0],\n",
            "         [ 1,  1],\n",
            "         [ 5, -2],\n",
            "         [-3,  3]],\n",
            "\n",
            "        [[ 2,  0],\n",
            "         [ 6, -3],\n",
            "         [-2,  2],\n",
            "         [ 2, -1]],\n",
            "\n",
            "        [[ 3,  0],\n",
            "         [-1,  1],\n",
            "         [-1,  2],\n",
            "         [ 3, -1]]])\n",
            "add\n",
            " tensor([[[ 4,  4],\n",
            "         [ 4,  5],\n",
            "         [ 8,  2],\n",
            "         [ 8,  3]],\n",
            "\n",
            "        [[ 5,  4],\n",
            "         [ 5,  5],\n",
            "         [ 9,  2],\n",
            "         [ 1,  7]],\n",
            "\n",
            "        [[ 6,  4],\n",
            "         [10,  1],\n",
            "         [ 2,  6],\n",
            "         [ 6,  3]],\n",
            "\n",
            "        [[ 7,  4],\n",
            "         [ 3,  5],\n",
            "         [ 3,  6],\n",
            "         [ 7,  3]]])\n",
            "tensor([[[0, 0],\n",
            "         [0, 1],\n",
            "         [0, 2],\n",
            "         [0, 3]],\n",
            "\n",
            "        [[1, 0],\n",
            "         [1, 1],\n",
            "         [1, 2],\n",
            "         [1, 3]],\n",
            "\n",
            "        [[2, 0],\n",
            "         [2, 1],\n",
            "         [2, 2],\n",
            "         [2, 3]],\n",
            "\n",
            "        [[3, 0],\n",
            "         [3, 1],\n",
            "         [3, 2],\n",
            "         [3, 3]]])\n"
          ]
        }
      ]
    },
    {
      "cell_type": "code",
      "source": [
        "# Plot the original and result matrices\n",
        "fig, axs = plt.subplots(1, 2, figsize=(10, 5))\n",
        "\n",
        "# Original Coordinate Matrix\n",
        "axs[0].scatter(coordinate_matrix[:,:,0], coordinate_matrix[:,:,1], c='blue', label='Original')\n",
        "axs[0].set_title('Original Coordinate Matrix')\n",
        "axs[0].set_xlabel('X-axis')\n",
        "axs[0].set_ylabel('Y-axis')\n",
        "\n",
        "# Result Matrix\n",
        "axs[1].scatter(recoverd[:,:,0], recoverd[:,:,1], c='red', label='recoverd')\n",
        "axs[1].set_title('Result Matrix (recoverd)')\n",
        "axs[1].set_xlabel('X-axis')\n",
        "axs[1].set_ylabel('Y-axis')\n",
        "\n",
        "plt.show()"
      ],
      "metadata": {
        "colab": {
          "base_uri": "https://localhost:8080/",
          "height": 487
        },
        "id": "FkCOjuPy5GAt",
        "outputId": "ef997902-cef9-4fa4-ae2e-b09de0017001"
      },
      "execution_count": 56,
      "outputs": [
        {
          "output_type": "display_data",
          "data": {
            "text/plain": [
              "<Figure size 1000x500 with 2 Axes>"
            ],
            "image/png": "[encoded data removed]"
          },
          "metadata": {}
        }
      ]
    },
    {
      "cell_type": "code",
      "source": [
        "temp_3 = result_matrix.view(-1,2)\n",
        "print(temp_3)\n",
        "recoverd_matrix_1 = torch.matmul(temp_3,inverse_mult_matrix).view(rows,cols,2)\n",
        "print(recoverd_matrix_1)\n",
        "# recoverd_1 = torch.fmod(recoverd_matrix_1,rows)\n",
        "# print(recoverd_1)"
      ],
      "metadata": {
        "colab": {
          "base_uri": "https://localhost:8080/"
        },
        "id": "HuuuCYOn9QCo",
        "outputId": "3dd35702-52f9-4a38-de8f-bd778c586b10"
      },
      "execution_count": 51,
      "outputs": [
        {
          "output_type": "stream",
          "name": "stdout",
          "text": [
            "tensor([[0, 0],\n",
            "        [1, 2],\n",
            "        [2, 4],\n",
            "        [3, 6],\n",
            "        [1, 1],\n",
            "        [2, 3],\n",
            "        [3, 5],\n",
            "        [4, 7],\n",
            "        [2, 2],\n",
            "        [3, 4],\n",
            "        [4, 6],\n",
            "        [5, 8],\n",
            "        [3, 3],\n",
            "        [4, 5],\n",
            "        [5, 7],\n",
            "        [6, 9]])\n",
            "tensor([[[0, 0],\n",
            "         [0, 1],\n",
            "         [0, 2],\n",
            "         [0, 3]],\n",
            "\n",
            "        [[1, 0],\n",
            "         [1, 1],\n",
            "         [1, 2],\n",
            "         [1, 3]],\n",
            "\n",
            "        [[2, 0],\n",
            "         [2, 1],\n",
            "         [2, 2],\n",
            "         [2, 3]],\n",
            "\n",
            "        [[3, 0],\n",
            "         [3, 1],\n",
            "         [3, 2],\n",
            "         [3, 3]]])\n"
          ]
        }
      ]
    },
    {
      "cell_type": "code",
      "source": [
        "# Plot the original and result matrices\n",
        "fig, axs = plt.subplots(1, 2, figsize=(10, 5))\n",
        "\n",
        "# Original Coordinate Matrix\n",
        "axs[0].scatter(coordinate_matrix[:,:,0], coordinate_matrix[:,:,1], c='blue', label='Original')\n",
        "axs[0].set_title('Original Coordinate Matrix')\n",
        "axs[0].set_xlabel('X-axis')\n",
        "axs[0].set_ylabel('Y-axis')\n",
        "\n",
        "# Result Matrix\n",
        "axs[1].scatter(recoverd_matrix_1[:,:,0], recoverd_matrix_1[:,:,1], c='red', label='recoverd')\n",
        "axs[1].set_title('Result Matrix (recoverd)')\n",
        "axs[1].set_xlabel('X-axis')\n",
        "axs[1].set_ylabel('Y-axis')\n",
        "\n",
        "plt.show()"
      ],
      "metadata": {
        "colab": {
          "base_uri": "https://localhost:8080/",
          "height": 487
        },
        "id": "0ZcPGOZa9jct",
        "outputId": "4529581c-efca-4c28-f020-d8ee196b698e"
      },
      "execution_count": 52,
      "outputs": [
        {
          "output_type": "display_data",
          "data": {
            "text/plain": [
              "<Figure size 1000x500 with 2 Axes>"
            ],
            "image/png": "[encoded data removed]"
          },
          "metadata": {}
        }
      ]
    },
    {
      "cell_type": "code",
      "source": [
        "from numba import jit, cuda\n",
        "import numpy as np\n",
        "# to measure exec time\n",
        "from timeit import default_timer as timer\n",
        "\n",
        "# normal function to run on cpu\n",
        "def func(a):\n",
        "\tfor i in range(10000000):\n",
        "\t\ta[i]+= 1\n",
        "\n",
        "# function optimized to run on gpu\n",
        "@jit(target_backend='cuda')\n",
        "def func2(a):\n",
        "\tfor i in range(10000000):\n",
        "\t\ta[i]+= 1\n",
        "if __name__==\"__main__\":\n",
        "\tn = 10000000\n",
        "\ta = np.ones(n, dtype = np.float64)\n",
        "\n",
        "\tstart = timer()\n",
        "\tfunc(a)\n",
        "\tprint(\"without GPU:\", timer()-start)\n",
        "\n",
        "\tstart = timer()\n",
        "\tfunc2(a)\n",
        "\tprint(\"with GPU:\", timer()-start)\n"
      ],
      "metadata": {
        "colab": {
          "base_uri": "https://localhost:8080/"
        },
        "id": "ynCo5HB_6t63",
        "outputId": "441b44c4-fc94-4a3d-a58a-907819ca3d08"
      },
      "execution_count": 53,
      "outputs": [
        {
          "output_type": "stream",
          "name": "stderr",
          "text": [
            "<ipython-input-53-7352539cbc6d>:12: NumbaDeprecationWarning: The 'nopython' keyword argument was not supplied to the 'numba.jit' decorator. The implicit default value for this argument is currently False, but it will be changed to True in Numba 0.59.0. See https://numba.readthedocs.io/en/stable/reference/deprecation.html#deprecation-of-object-mode-fall-back-behaviour-when-using-jit for details.\n",
            "  @jit(target_backend='cuda')\n"
          ]
        },
        {
          "output_type": "stream",
          "name": "stdout",
          "text": [
            "without GPU: 2.3299543940001968\n",
            "with GPU: 0.07559554199997365\n"
          ]
        }
      ]
    }
  ]
}